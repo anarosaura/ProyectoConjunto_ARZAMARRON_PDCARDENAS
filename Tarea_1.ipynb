{
 "cells": [
  {
   "cell_type": "markdown",
   "metadata": {},
   "source": [
    "<img style=\"float: left; margin: 30px 15px 15px 15px;\" src=\"https://encrypted-tbn0.gstatic.com/images?q=tbn:ANd9GcTFzQj91sOlkeDFkg5HDbjtR4QJYmLXkfMNig&usqp=CAU\" width=\"400\" height=\"500\" /> \n",
    "    \n",
    "    \n",
    "### <font color='navy'> Modelos no lineales para pronósticos. \n",
    "\n",
    "**Nombres:** Paula Daniela Cárdenas Gallardo y Ana Rosaura Zamarrón Álvarez\n",
    "\n",
    "**Fecha:** 31 de ferebro del 2023.\n",
    "\n",
    "**Expediente** : 733720 y ######.\n",
    "    \n",
    "**Profesor:** Óscar David Jaramillo Zuluaga.\n",
    "    \n",
    "**Link Github**: [github.com](https://github.com/anarosaura/ProyectoConjunto_ARZAMARRON_PDCARDENAS)\n",
    "\n",
    "# Tarea 1: Clase 2"
   ]
  },
  {
   "cell_type": "markdown",
   "metadata": {},
   "source": [
    "## Enunciado de tarea\n",
    "> 1.  El archivo debe realizarse en parejas y sólo uno de los dos debe crear en su cuenta de *Github* un repositorio con el nombre **ProyectoConjunto\\_APELLIDO1\\_APELLIDO2**. A la persona que creó el repositorio la llamaremos (ESTUDIANTE 1 ). El APELLIDO se debe de escribir (Iniciales del nombre y primer apellido), por ejemplo si yo creara el archivo lo debería de nombrar *ProyectoConjunto\\_ODJaramillo*. \n",
    "> 1.  Posteriormente, desde la cuenta del (ESTUDIANTE 2), 'aquel que no creó el repositorio anterior', ingresar al perfil del ESTUDIANTE 1 y en el repositorio creado en el paso 1, realizar un \"fork\" de este repositorio en su perfil, y además realizar los pasos en Gitkraken para hacer dicho repositorio \"Remoto (REMOTE)\" VER DICHO PROCEDIMIENTO EN LA CLASE **Clase2_GitTurorial2**.\n",
    "> 1.  Luego de realizados los pasos 1 y 2, el ESTUDIANTE 1 y ESTUDIANTE 2, desde su computador realizar un *clone* del repositorio creado en el numeral 1 en la carpeta que cada quién haya asignado para el curso en su computador. \n",
    "> 1.  Luego desde Jupyter el ESTUDIANTE 1, crea un nuevo ``notebook`` en el repositorio del paso 3. \n",
    "> 1.  En este nuevo notebook el ESTUDIANTE 1 y ESTUDIANTE 2, deben realizar una presentación describiendo sus expectativas del curso y la transcipción de la Figura 1 y Figura 2 respectivamente, haciendo uso de la sintaxis Markdown. Recuerden definir unas celdas donde cada usuario modificará el cuaderno de python para evitar futuros conflictos. \n",
    "> 6. Cuando ya se encuentre el proyecto conjunto con la información del ESTUDIANTE 1 y ESTUDIANTE 2, el ``ESTUDIANTE 2``  debe de realizar un `pull request` con las modificaciones realizadas a el `ESTUDIANTE 1` para que este realice un merge a la rama `master`, con las moficaciones propuestas por el `ESTUDIANTE 2`, TAL Y CÓMO SE REALIZÓ EN CLASE. (Recuerden que los pull request se generan en *Gitkraken* y se administran los comentarios o cambios propuestos por su compañero desde *Github* ver `Clase1_GitTurorial` para aclaración de dudas, donde se explica cómo crear *branch y pull request*)\n",
    "> 7. Luego de culminado los pasos anteriores, el ESTUDIANTE 1,realizará un programa que imprima la serie de fibonacci para sus primeros 100 términos en un array de python,usando la rama “master” del repositorio creado. Por otro lado, el ESTUDIANTE 2,creando un “branch” llamado `ejerPrograma`, generará un programa que muestre los números primos del 0-100. Luego de que el ESTUDIANTE 2 haya terminado su programa, debe de realizar un “pull request” al ESTUDIANTE 1, **ANTES** de hacer un “merge” de la rama `ejerPrograma` en el proyecto principal (“master”). Luego de realizado estos pasos **NO BORRAR LA RAMA CREADA (`ejerPrograma`)**"
   ]
  },
  {
   "cell_type": "markdown",
   "metadata": {},
   "source": [
    "### Ejercicio 1: Realizar una presentación describiendo sus expectativas del curso y la transcipción de la Figura 1 y Figura 2 respectivamente, haciendo uso de la sintaxis Markdown."
   ]
  },
  {
   "cell_type": "markdown",
   "metadata": {},
   "source": [
    "___\n",
    "**Solución estudiante 1:**\n",
    "\n",
    "En este curso espero aprender nuevos métodos más complejos para crear pronósticos de las series de tiempo. En otros cursos hemos estudiado y practicado las redes neuronales, pero en esta clase me gustaría aplicarlas en las series de tiempo. El semestre pasado aprendimos un poco sobre las redes neuronales convoluciones en la clase de Machine Learning, me gustaría ver cómo se pueden utilizar en algo diferente a Computer Vision. Como científicos de datos hemos aprendido a hacer el procesamiento de los datos para datasets regulares, pero me gustaría aprender cuál es el mejor procediemiento a seguir para tratar los datos de las series de tiempo, antes y después de craer los modelos. El semestre pasado llevé la materia de Series de Tiempo, pero todo lo vi con R, por eso espero aprender a realizar los procedimientos con Python."
   ]
  },
  {
   "cell_type": "markdown",
   "metadata": {},
   "source": [
    "\\begin{table}\n",
    "\\begin{tabular}{|l|l|l|}\n",
    "\\hline\n",
    "\\_i\\_ & x    & \\_f(x)\\_ \\\\ \\hline\n",
    "0     & -1   & 0.3678   \\\\ \\hline\n",
    "\\textcolor{red}{1}     & \\textcolor{red}{-0.5} & \\textcolor{red}{0.7788}   \\\\ \\hline\n",
    "\\textcolor{blue}{2}     & \\textcolor{blue}{0}    & \\textcolor{blue}{1}        \\\\ \\hline\n",
    "\\textcolor{red}{3}     & \\textcolor{red}{0.5}  & \\textcolor{red}{0.7788}   \\\\ \\hline\n",
    "4     & 1    & 0.3678   \\\\ \\hline\n",
    "\\end{tabular}\n",
    "\\end{table}\n",
    "\n",
    "\\begin{center}\n",
    "\\text{Cuadro 1: Tabla de valores de $f(x)$}\n",
    "\\end{center}\n",
    "\n",
    "$$\n",
    "\\[ \\int_{-1}^{1} e^{-x^2} \\,dx \\] \\thickapprox \\[\\frac{\\text{0,5}}{\\text{3}}\\] [f(-1) + f(1) + 4(\\textcolor{red}{f(-0,5) + f(0,5)}) + 2\\textcolor{blue}{f(0)}]\n",
    " \\\\ \\quad \\quad \\quad \\quad \\quad\n",
    "                                \\thickapprox \\[\\frac{\\text{0,5}}{\\text{3}}\\] [0,3678 + 0,3678 + 4(\\textcolor{red}{0,7788 + 0,7788)}] + 2 \\cdot \\textcolor{blue}{1} \\thickapprox 1,4936\n",
    "\n",
    "$$\n",
    "\n",
    "A moodo de verificación, se calculará por software, el valor del área para $n = 100$, un valor mucho más elevado al que se utilizó anteriormente. Si lo calculado previamente es correcto, se esperaría que sea próximo al valor presentado a continuación para ser una buena aproximación.\n",
    "\n",
    "$$\n",
    "\\[ \\int_{-1}^{1} e^{-x^2} \\,dx \\] \\thickapprox 1,4936\n",
    "$$"
   ]
  },
  {
   "cell_type": "code",
   "execution_count": 1,
   "metadata": {},
   "outputs": [
    {
     "data": {
      "text/plain": [
       "[0,\n",
       " 1,\n",
       " 1,\n",
       " 2,\n",
       " 3,\n",
       " 5,\n",
       " 8,\n",
       " 13,\n",
       " 21,\n",
       " 34,\n",
       " 55,\n",
       " 89,\n",
       " 144,\n",
       " 233,\n",
       " 377,\n",
       " 610,\n",
       " 987,\n",
       " 1597,\n",
       " 2584,\n",
       " 4181,\n",
       " 6765,\n",
       " 10946,\n",
       " 17711,\n",
       " 28657,\n",
       " 46368,\n",
       " 75025,\n",
       " 121393,\n",
       " 196418,\n",
       " 317811,\n",
       " 514229,\n",
       " 832040,\n",
       " 1346269,\n",
       " 2178309,\n",
       " 3524578,\n",
       " 5702887,\n",
       " 9227465,\n",
       " 14930352,\n",
       " 24157817,\n",
       " 39088169,\n",
       " 63245986,\n",
       " 102334155,\n",
       " 165580141,\n",
       " 267914296,\n",
       " 433494437,\n",
       " 701408733,\n",
       " 1134903170,\n",
       " 1836311903,\n",
       " 2971215073,\n",
       " 4807526976,\n",
       " 7778742049,\n",
       " 12586269025,\n",
       " 20365011074,\n",
       " 32951280099,\n",
       " 53316291173,\n",
       " 86267571272,\n",
       " 139583862445,\n",
       " 225851433717,\n",
       " 365435296162,\n",
       " 591286729879,\n",
       " 956722026041,\n",
       " 1548008755920,\n",
       " 2504730781961,\n",
       " 4052739537881,\n",
       " 6557470319842,\n",
       " 10610209857723,\n",
       " 17167680177565,\n",
       " 27777890035288,\n",
       " 44945570212853,\n",
       " 72723460248141,\n",
       " 117669030460994,\n",
       " 190392490709135,\n",
       " 308061521170129,\n",
       " 498454011879264,\n",
       " 806515533049393,\n",
       " 1304969544928657,\n",
       " 2111485077978050,\n",
       " 3416454622906707,\n",
       " 5527939700884757,\n",
       " 8944394323791464,\n",
       " 14472334024676221,\n",
       " 23416728348467685,\n",
       " 37889062373143906,\n",
       " 61305790721611591,\n",
       " 99194853094755497,\n",
       " 160500643816367088,\n",
       " 259695496911122585,\n",
       " 420196140727489673,\n",
       " 679891637638612258,\n",
       " 1100087778366101931,\n",
       " 1779979416004714189,\n",
       " 2880067194370816120,\n",
       " 4660046610375530309,\n",
       " 7540113804746346429,\n",
       " 12200160415121876738,\n",
       " 19740274219868223167,\n",
       " 31940434634990099905,\n",
       " 51680708854858323072,\n",
       " 83621143489848422977,\n",
       " 135301852344706746049,\n",
       " 218922995834555169026]"
      ]
     },
     "execution_count": 1,
     "metadata": {},
     "output_type": "execute_result"
    }
   ],
   "source": [
    "# Serie de fibonacci\n",
    "def fibonacci(n):\n",
    "    serie = [0,1]\n",
    "    for i in range(2, n):\n",
    "        serie.append(serie[i-1] + serie[i-2])\n",
    "    return serie\n",
    "\n",
    "n = 100\n",
    "fibonacci(100)"
   ]
  },
  {
   "cell_type": "markdown",
   "metadata": {},
   "source": [
    "___\n",
    "**Solución estudiante 2:**\n",
    "\n",
    "Mis expectativas del curso son aprender modelos nuevos para pronosticar series de tiempo y reafirmar mis conocimientos previos de `Git`, `GitHub` y `GitKraken`."
   ]
  },
  {
   "cell_type": "markdown",
   "metadata": {},
   "source": [
    "**`Figura 2:`**\n",
    "\n",
    " | i             | 1   | 2   | 3   | 4   | 5 | 6 | 7  |\n",
    " |:-------------:|:---:|:---:|:---:|:---:|:---:|:---:|:---:|\n",
    " | $$E_i(V)$$      | 12  | 10  | 24  | 12  | - | - | -  |\n",
    " | $$r_i(\\Omega)$$ | 0.1 | 0.5 | 0.2 | 0.5 | - | - | -  |\n",
    " | $$R_i(\\Omega)$$ | 25  | 40  | 16  | 20  | 9 | 4 | 20 |\n",
    "\n",
    "\n",
    "<font color = 'blue'> Kemna y Vorst (1900) </font> muestran que las opciones asiáticas con media geométrica continua se pueden valuar con el mismo enfoque de las opciones *plain vanilla*; solo se deben cambiar los parámetros de votalidad $\\sigma$ por $\\sigma_a$, y el costo de acarreo $b$ por $b_A$.\n",
    "\n",
    "De acuerdo con Kemna y Vorst, las fórmulas para valuar una opci´no de compra y una opción de venta son:\n",
    "\n",
    "$ c \\approx S_te^{(b_A-r)(T-t)}\\phi(d_1)-Ke^{-r(T-t)}\\phi(d_2),$\n",
    "\n",
    "$ p \\approx Ke^{-r(T-t)}\\phi(d_2)-S_te^{(b_A-r)(T-t)}\\phi(d_1).$\n",
    "\n",
    "con $d_1$ y $d_2$ dados por:\n",
    "\n",
    "$\\begin{align*} d_1= \\frac{ln(S_t/K)+(b_A+1/2\\sigma^2_a)(T-t)}{\\sigma \\sqrt{T-t}}, \\\\ d_2= d_1- \\sigma_a \\sqrt{T-t}. \\end{align*}$\n",
    "\n",
    "La función $\\phi(d)$ es la función de distribución acumulada de $E \\sim  \\mathcal{N}(0,1)$. La volatilidad ajustada es igual a:\n",
    "\n",
    "$\\sigma_a=\\frac{\\sigma}{\\sqrt{3}},$\n",
    "\n",
    "mientras que el costo de acarreo ajustado es:\n",
    "\n",
    "$b_A=\\frac{1}{2}\\left(v-\\frac{\\sigma^2}{6} \\right).$"
   ]
  },
  {
   "cell_type": "code",
   "execution_count": 2,
   "metadata": {},
   "outputs": [
    {
     "name": "stdout",
     "output_type": "stream",
     "text": [
      " 0 2 3 5 7 11 13 17 19 23 29 31 37 41 43 47 53 59 61 67 71 73 79 83 89 97"
     ]
    }
   ],
   "source": [
    "# Programa que muestre los números primos del 0-100\n",
    "for n in range (0, 101):\n",
    "    cont = 0\n",
    "    for i in range(2, (n//2 + 1)):\n",
    "        if(n % i == 0):\n",
    "            cont = cont + 1\n",
    "            break\n",
    "    if (cont == 0 and n != 1):\n",
    "        print(\" %d\" %n, end = '')"
   ]
  },
  {
   "cell_type": "code",
   "execution_count": null,
   "metadata": {},
   "outputs": [],
   "source": []
  }
 ],
 "metadata": {
  "kernelspec": {
   "display_name": "Python 3 (ipykernel)",
   "language": "python",
   "name": "python3"
  },
  "language_info": {
   "codemirror_mode": {
    "name": "ipython",
    "version": 3
   },
   "file_extension": ".py",
   "mimetype": "text/x-python",
   "name": "python",
   "nbconvert_exporter": "python",
   "pygments_lexer": "ipython3",
   "version": "3.9.13"
  }
 },
 "nbformat": 4,
 "nbformat_minor": 2
}
