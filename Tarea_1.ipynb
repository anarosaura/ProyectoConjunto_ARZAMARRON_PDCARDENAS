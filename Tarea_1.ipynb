{
 "cells": [
  {
   "cell_type": "markdown",
   "metadata": {},
   "source": [
    "<img style=\"float: left; margin: 30px 15px 15px 15px;\" src=\"https://encrypted-tbn0.gstatic.com/images?q=tbn:ANd9GcTFzQj91sOlkeDFkg5HDbjtR4QJYmLXkfMNig&usqp=CAU\" width=\"400\" height=\"500\" /> \n",
    "    \n",
    "    \n",
    "### <font color='navy'> Modelos no lineales para pronósticos. \n",
    "\n",
    "**Nombres:** Paula Daniela Cárdenas Gallardo y Ana Rosaura Zamarrón Álvarez\n",
    "\n",
    "**Fecha:** 31 de ferebro del 2023.\n",
    "\n",
    "**Expediente** : 733720 y ######.\n",
    "    \n",
    "**Profesor:** Óscar David Jaramillo Zuluaga.\n",
    "    \n",
    "**Link Github**: [github.com](https://github.com/anarosaura/ProyectoConjunto_ARZAMARRON_PDCARDENAS)\n",
    "\n",
    "# Tarea 1: Clase 2"
   ]
  },
  {
   "cell_type": "markdown",
   "metadata": {},
   "source": [
    "## Enunciado de tarea (Transcibirlo)\n",
    "> Descripción de la tarea"
   ]
  },
  {
   "cell_type": "markdown",
   "metadata": {},
   "source": [
    "### Ejercicio 1: Realizar una presentación describiendo sus expectativas del curso y la transcipción de la Figura 1 y Figura 2 respectivamente, haciendo uso de la sintaxis Markdown."
   ]
  },
  {
   "cell_type": "markdown",
   "metadata": {},
   "source": [
    "Código de solución estudiante 1"
   ]
  },
  {
   "cell_type": "code",
   "execution_count": null,
   "metadata": {},
   "outputs": [],
   "source": [
    "# Código de solución estudiante 1\n",
    ".\n",
    ".\n",
    ".\n",
    ".\n"
   ]
  },
  {
   "cell_type": "markdown",
   "metadata": {},
   "source": [
    "___\n",
    "**Solución estudiante 2:**"
   ]
  },
  {
   "cell_type": "markdown",
   "metadata": {},
   "source": [
    "Mis expectativas del curso son aprender modelos nuevos para pronosticar series de tiempo y reafirmar mis conocimientos previos de `Git`, `GitHub` y `GitKraken`."
   ]
  },
  {
   "cell_type": "markdown",
   "metadata": {},
   "source": [
    "**`Figura 2:`**\n",
    "\n",
    " | i             | 1   | 2   | 3   | 4   | 5 | 6 | 7  |\n",
    " |:-------------:|:---:|:---:|:---:|:---:|:---:|:---:|:---:|\n",
    " | $$E_i(V)$$      | 12  | 10  | 24  | 12  | - | - | -  |\n",
    " | $$r_i(\\Omega)$$ | 0.1 | 0.5 | 0.2 | 0.5 | - | - | -  |\n",
    " | $$R_i(\\Omega)$$ | 25  | 40  | 16  | 20  | 9 | 4 | 20 |\n",
    "\n",
    "\n",
    "<font color = 'blue'> Kemna y Vorst (1900) </font> muestran que las opciones asiáticas con media geométrica continua se pueden valuar con el mismo enfoque de las opciones *plain vanilla*; solo se deben cambiar los parámetros de votalidad $\\sigma$ por $\\sigma_a$, y el costo de acarreo $b$ por $b_A$.\n",
    "\n",
    "De acuerdo con Kemna y Vorst, las fórmulas para valuar una opci´no de compra y una opción de venta son:\n",
    "\n",
    "$ c \\approx S_te^{(b_A-r)(T-t)}\\phi(d_1)-Ke^{-r(T-t)}\\phi(d_2),$\n",
    "\n",
    "$ p \\approx Ke^{-r(T-t)}\\phi(d_2)-S_te^{(b_A-r)(T-t)}\\phi(d_1).$\n",
    "\n",
    "con $d_1$ y $d_2$ dados por:\n",
    "\n",
    "$\\begin{align*} d_1= \\frac{ln(S_t/K)+(b_A+1/2\\sigma^2_a)(T-t)}{\\sigma \\sqrt{T-t}}, \\\\ d_2= d_1- \\sigma_a \\sqrt{T-t}. \\end{align*}$\n",
    "\n",
    "La función $\\phi(d)$ es la función de distribución acumulada de $E \\sim \\N(0,1)$. La volatilidad ajustada es igual a:\n",
    "\n",
    "$\\sigma_a=\\frac{\\sigma}{\\sqrt{3}},$\n",
    "\n",
    "mientras que el costo de acarreo ajustado es:\n",
    "\n",
    "$b_A=\\frac{1}{2}\\left(v-\\frac{\\sigma^2}{6} \\right).$"
   ]
  }
 ],
 "metadata": {
  "kernelspec": {
   "display_name": "Python 3 (ipykernel)",
   "language": "python",
   "name": "python3"
  },
  "language_info": {
   "codemirror_mode": {
    "name": "ipython",
    "version": 3
   },
   "file_extension": ".py",
   "mimetype": "text/x-python",
   "name": "python",
   "nbconvert_exporter": "python",
   "pygments_lexer": "ipython3",
   "version": "3.9.13"
  }
 },
 "nbformat": 4,
 "nbformat_minor": 2
}
