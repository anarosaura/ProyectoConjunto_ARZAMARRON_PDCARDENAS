{
 "cells": [
  {
   "cell_type": "markdown",
   "source": [
    "# Tarea 1\n",
    "Integrantes:\n",
    "+ Estudiante 1: Ana Rosaura Zamarrón Álvarez\n",
    "+ Estudiante 2: Paula Daniela Cárdenas Gallardo"
   ],
   "metadata": {
    "collapsed": false
   }
  },
  {
   "cell_type": "markdown",
   "source": [
    "#### Expectativas del curso ANA\n",
    "En este curso espero aprender nuevos métodos más complejos para crear pronósticos de las series de tiempo. En otros cursos hemos estudiado y practicado las redes neuronales, pero en esta clase me gustaría aplicarlas en las series de tiempo. El semestre pasado aprendimos un poco sobre las redes neuronales convoluciones en la clase de Machine Learning, me gustaría ver cómo se pueden utilizar en algo diferente a Computer Vision. Como científicos de datos hemos aprendido a hacer el procesamiento de los datos para datasets regulares, pero me gustaría aprender cuál es el mejor procediemiento a seguir para tratar los datos de las series de tiempo, antes y después de craer los modelos. El semestre pasado llevé la materia de Series de Tiempo, pero todo lo vi con R, por eso espero aprender a realizar los procedimientos con Python."
   ],
   "metadata": {
    "collapsed": false
   }
  },
  {
   "cell_type": "code",
   "execution_count": 2,
   "outputs": [],
   "source": [
    "# Expectativas del curso PAU"
   ],
   "metadata": {
    "collapsed": false
   }
  },
  {
   "cell_type": "markdown",
   "source": [
    "##### Transcripción LaTeX ANA\n",
    "\\begin{table}\n",
    "\\begin{tabular}{|l|l|l|}\n",
    "\\hline\n",
    "\\_i\\_ & x    & \\_f(x)\\_ \\\\ \\hline\n",
    "0     & -1   & 0.3678   \\\\ \\hline\n",
    "\\textcolor{red}{1}     & \\textcolor{red}{-0.5} & \\textcolor{red}{0.7788}   \\\\ \\hline\n",
    "\\textcolor{blue}{2}     & \\textcolor{blue}{0}    & \\textcolor{blue}{1}        \\\\ \\hline\n",
    "\\textcolor{red}{3}     & \\textcolor{red}{0.5}  & \\textcolor{red}{0.7788}   \\\\ \\hline\n",
    "4     & 1    & 0.3678   \\\\ \\hline\n",
    "\\end{tabular}\n",
    "\\end{table}\n",
    "\n",
    "\\begin{center}\n",
    "\\text{Cuadro 1: Tabla de valores de $f(x)$}\n",
    "\\end{center}\n",
    "\n",
    "$$\n",
    "\\[ \\int_{-1}^{1} e^{-x^2} \\,dx \\] \\thickapprox \\[\\frac{\\text{0,5}}{\\text{3}}\\] [f(-1) + f(1) + 4(\\textcolor{red}{f(-0,5) + f(0,5)}) + 2\\textcolor{blue}{f(0)}]\n",
    " \\\\ \\quad \\quad \\quad \\quad \\quad\n",
    "                                \\thickapprox \\[\\frac{\\text{0,5}}{\\text{3}}\\] [0,3678 + 0,3678 + 4(\\textcolor{red}{0,7788 + 0,7788)}] + 2 \\cdot \\textcolor{blue}{1} \\thickapprox 1,4936\n",
    "\n",
    "$$\n",
    "\n",
    "A moodo de verificación, se calculará por software, el valor del área para $n = 100$, un valor mucho más elevado al que se utilizó anteriormente. Si lo calculado previamente es correcto, se esperaría que sea próximo al valor presentado a continuación para ser una buena aproximación.\n",
    "\n",
    "$$\n",
    "\\[ \\int_{-1}^{1} e^{-x^2} \\,dx \\] \\thickapprox 1,4936\n",
    "$$"
   ],
   "metadata": {
    "collapsed": false
   }
  },
  {
   "cell_type": "code",
   "execution_count": null,
   "outputs": [],
   "source": [
    "# Transcripción LaTeX PAU"
   ],
   "metadata": {
    "collapsed": false
   }
  },
  {
   "cell_type": "code",
   "execution_count": 2,
   "outputs": [
    {
     "data": {
      "text/plain": "[0,\n 1,\n 1,\n 2,\n 3,\n 5,\n 8,\n 13,\n 21,\n 34,\n 55,\n 89,\n 144,\n 233,\n 377,\n 610,\n 987,\n 1597,\n 2584,\n 4181,\n 6765,\n 10946,\n 17711,\n 28657,\n 46368,\n 75025,\n 121393,\n 196418,\n 317811,\n 514229,\n 832040,\n 1346269,\n 2178309,\n 3524578,\n 5702887,\n 9227465,\n 14930352,\n 24157817,\n 39088169,\n 63245986,\n 102334155,\n 165580141,\n 267914296,\n 433494437,\n 701408733,\n 1134903170,\n 1836311903,\n 2971215073,\n 4807526976,\n 7778742049,\n 12586269025,\n 20365011074,\n 32951280099,\n 53316291173,\n 86267571272,\n 139583862445,\n 225851433717,\n 365435296162,\n 591286729879,\n 956722026041,\n 1548008755920,\n 2504730781961,\n 4052739537881,\n 6557470319842,\n 10610209857723,\n 17167680177565,\n 27777890035288,\n 44945570212853,\n 72723460248141,\n 117669030460994,\n 190392490709135,\n 308061521170129,\n 498454011879264,\n 806515533049393,\n 1304969544928657,\n 2111485077978050,\n 3416454622906707,\n 5527939700884757,\n 8944394323791464,\n 14472334024676221,\n 23416728348467685,\n 37889062373143906,\n 61305790721611591,\n 99194853094755497,\n 160500643816367088,\n 259695496911122585,\n 420196140727489673,\n 679891637638612258,\n 1100087778366101931,\n 1779979416004714189,\n 2880067194370816120,\n 4660046610375530309,\n 7540113804746346429,\n 12200160415121876738,\n 19740274219868223167,\n 31940434634990099905,\n 51680708854858323072,\n 83621143489848422977,\n 135301852344706746049,\n 218922995834555169026]"
     },
     "execution_count": 2,
     "metadata": {},
     "output_type": "execute_result"
    }
   ],
   "source": [
    "# Serie de fibonacci\n",
    "def fibonacci(n):\n",
    "    serie = [0,1]\n",
    "    for i in range(2, n):\n",
    "        serie.append(serie[i-1] + serie[i-2])\n",
    "    return serie\n",
    "\n",
    "n = 100\n",
    "fibonacci(100)"
   ],
   "metadata": {
    "collapsed": false
   }
  },
  {
   "cell_type": "code",
   "execution_count": null,
   "outputs": [],
   "source": [
    "# ejerPrograma"
   ],
   "metadata": {
    "collapsed": false
   }
  }
 ],
 "metadata": {
  "kernelspec": {
   "display_name": "Python 3",
   "language": "python",
   "name": "python3"
  },
  "language_info": {
   "codemirror_mode": {
    "name": "ipython",
    "version": 2
   },
   "file_extension": ".py",
   "mimetype": "text/x-python",
   "name": "python",
   "nbconvert_exporter": "python",
   "pygments_lexer": "ipython2",
   "version": "2.7.6"
  }
 },
 "nbformat": 4,
 "nbformat_minor": 0
}
